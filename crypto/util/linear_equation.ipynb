{
 "cells": [
  {
   "cell_type": "code",
   "execution_count": 18,
   "source": [
    "import numpy\n",
    "import math"
   ],
   "outputs": [],
   "metadata": {}
  },
  {
   "cell_type": "code",
   "execution_count": 19,
   "source": [
    "a = 3\n",
    "b = 5\n",
    "c = range(100)\n",
    "\n",
    "if a < b:\n",
    "    tmp = a\n",
    "    a = b\n",
    "    b = tmp"
   ],
   "outputs": [],
   "metadata": {}
  },
  {
   "cell_type": "code",
   "execution_count": 20,
   "source": [
    "def general_solution(ps, a, b, g):\n",
    "    t = numpy.arange(-200,501,1)\n",
    "    return [(int(ps[0]+b/g*ti),int(ps[1]-a/g*ti)) for ti in t]"
   ],
   "outputs": [],
   "metadata": {}
  },
  {
   "cell_type": "code",
   "execution_count": 21,
   "source": [
    "def quo_rem(n, d):\n",
    "    if d == 0:\n",
    "        print('A number cannot be divided by 0')\n",
    "    return math.floor(n/d), n%d"
   ],
   "outputs": [],
   "metadata": {}
  },
  {
   "cell_type": "code",
   "execution_count": 22,
   "source": [
    "qs = []\n",
    "xs = []\n",
    "ys = []\n",
    "rs = []"
   ],
   "outputs": [],
   "metadata": {}
  },
  {
   "cell_type": "code",
   "execution_count": 23,
   "source": [
    "# get first two\n",
    "q1, r1 = quo_rem(a, b)\n",
    "if r1 == 0:\n",
    "    print(f'{b} is gcd of {a}, {b}')\n",
    "    exit()\n",
    "qs.append(q1)\n",
    "rs.append(r1)\n",
    "xs.append(1)\n",
    "ys.append(-q1)\n",
    "\n",
    "    \n",
    "q2, r2 = quo_rem(b, r1)\n",
    "if r2 == 0:\n",
    "    print(f'{a}*{1} + {b}*{-q1} = {r1}')\n",
    "    print(general_solution((1,-q1), a, b, r1))\n",
    "    exit()\n",
    "qs.append(q2)\n",
    "rs.append(r2)\n",
    "xs.append(-q1*q2)\n",
    "ys.append(1+q1*q2)"
   ],
   "outputs": [],
   "metadata": {}
  },
  {
   "cell_type": "code",
   "execution_count": 24,
   "source": [
    "i = 2\n",
    "while rs[-1] != 0:\n",
    "    q, r = quo_rem(rs[i-2], rs[i-1])\n",
    "    qs.append(q)\n",
    "    rs.append(r)\n",
    "    xs.append(xs[i-2]-xs[i-1]*q)\n",
    "    ys.append(ys[i-2]-ys[i-1]*q)\n",
    "    i = i+1"
   ],
   "outputs": [],
   "metadata": {}
  },
  {
   "cell_type": "code",
   "execution_count": 25,
   "source": [
    "print(f'{a}*{xs[-2]} + {b}*{ys[-2]} = {rs[-2]}')"
   ],
   "outputs": [
    {
     "output_type": "stream",
     "name": "stdout",
     "text": [
      "11*-2 + 4*3 = 1\n"
     ]
    }
   ],
   "metadata": {}
  },
  {
   "cell_type": "code",
   "execution_count": 26,
   "source": [
    "for ci in c:\n",
    "    if (ci+1) % rs[-2] != 0:\n",
    "        print(f'No x, y for {ci+1}')\n",
    "        continue\n",
    "\n",
    "    f = int((ci+1)/rs[-2])\n",
    "    ps = (f*xs[-2], f*ys[-2])\n",
    "    gs = general_solution(ps, a, b, rs[-2])\n",
    "    print(f'====={ci+1}=====')\n",
    "    for x, y in gs:\n",
    "        if x>=0 and y>=0:\n",
    "            print(f'{x},{y}')"
   ],
   "outputs": [
    {
     "output_type": "stream",
     "name": "stdout",
     "text": [
      "=====1=====\n",
      "=====2=====\n",
      "=====3=====\n",
      "=====4=====\n",
      "=====5=====\n",
      "=====6=====\n",
      "=====7=====\n",
      "=====8=====\n",
      "=====9=====\n",
      "=====10=====\n",
      "=====11=====\n",
      "=====12=====\n",
      "=====13=====\n",
      "=====14=====\n",
      "=====15=====\n",
      "=====16=====\n",
      "=====17=====\n",
      "=====18=====\n",
      "=====19=====\n",
      "=====20=====\n",
      "=====21=====\n",
      "=====22=====\n",
      "=====23=====\n",
      "=====24=====\n",
      "=====25=====\n",
      "=====26=====\n",
      "=====27=====\n",
      "=====28=====\n",
      "=====29=====\n",
      "=====30=====\n",
      "=====31=====\n",
      "=====32=====\n",
      "=====33=====\n",
      "=====34=====\n",
      "=====35=====\n",
      "=====36=====\n",
      "=====37=====\n",
      "=====38=====\n",
      "=====39=====\n",
      "=====40=====\n",
      "=====41=====\n",
      "=====42=====\n",
      "=====43=====\n",
      "=====44=====\n",
      "=====45=====\n",
      "=====46=====\n",
      "=====47=====\n",
      "=====48=====\n",
      "=====49=====\n",
      "=====50=====\n",
      "=====51=====\n",
      "=====52=====\n",
      "=====53=====\n",
      "=====54=====\n",
      "=====55=====\n",
      "=====56=====\n",
      "=====57=====\n",
      "=====58=====\n",
      "=====59=====\n",
      "=====60=====\n",
      "=====61=====\n",
      "=====62=====\n",
      "=====63=====\n",
      "=====64=====\n",
      "=====65=====\n",
      "=====66=====\n",
      "=====67=====\n",
      "=====68=====\n",
      "=====69=====\n",
      "=====70=====\n",
      "=====71=====\n",
      "=====72=====\n",
      "=====73=====\n",
      "=====74=====\n",
      "=====75=====\n",
      "=====76=====\n",
      "=====77=====\n",
      "=====78=====\n",
      "=====79=====\n",
      "=====80=====\n",
      "=====81=====\n",
      "=====82=====\n",
      "=====83=====\n",
      "=====84=====\n",
      "=====85=====\n",
      "=====86=====\n",
      "=====87=====\n",
      "=====88=====\n",
      "=====89=====\n",
      "=====90=====\n",
      "=====91=====\n",
      "=====92=====\n",
      "=====93=====\n",
      "=====94=====\n",
      "=====95=====\n",
      "=====96=====\n",
      "=====97=====\n",
      "=====98=====\n",
      "=====99=====\n",
      "=====100=====\n"
     ]
    }
   ],
   "metadata": {}
  },
  {
   "cell_type": "markdown",
   "source": [],
   "metadata": {}
  },
  {
   "cell_type": "code",
   "execution_count": 27,
   "source": [
    "# if c % rs[-2] != 0:\n",
    "#     print('No x, y')\n",
    "#     exit()"
   ],
   "outputs": [],
   "metadata": {}
  },
  {
   "cell_type": "code",
   "execution_count": 28,
   "source": [
    "# f = int(c/rs[-2])\n",
    "# ps = (f*xs[-2], f*ys[-2])"
   ],
   "outputs": [],
   "metadata": {}
  },
  {
   "cell_type": "code",
   "execution_count": 29,
   "source": [
    "# gs = general_solution(ps, a, b, rs[-2])"
   ],
   "outputs": [],
   "metadata": {}
  },
  {
   "cell_type": "code",
   "execution_count": 30,
   "source": [
    "quo_rem(-1, 4)"
   ],
   "outputs": [
    {
     "output_type": "execute_result",
     "data": {
      "text/plain": [
       "(-1, 3)"
      ]
     },
     "metadata": {},
     "execution_count": 30
    }
   ],
   "metadata": {}
  },
  {
   "cell_type": "code",
   "execution_count": null,
   "source": [],
   "outputs": [],
   "metadata": {}
  }
 ],
 "metadata": {
  "orig_nbformat": 4,
  "language_info": {
   "name": "python",
   "version": "3.9.6",
   "mimetype": "text/x-python",
   "codemirror_mode": {
    "name": "ipython",
    "version": 3
   },
   "pygments_lexer": "ipython3",
   "nbconvert_exporter": "python",
   "file_extension": ".py"
  },
  "kernelspec": {
   "name": "python3",
   "display_name": "Python 3.9.6 64-bit"
  },
  "interpreter": {
   "hash": "aee8b7b246df8f9039afb4144a1f6fd8d2ca17a180786b69acc140d282b71a49"
  }
 },
 "nbformat": 4,
 "nbformat_minor": 2
}