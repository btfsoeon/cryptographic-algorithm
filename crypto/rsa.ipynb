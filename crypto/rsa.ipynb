{
 "cells": [
  {
   "cell_type": "code",
   "execution_count": 3,
   "source": [
    "TEXT_MAP = {\n",
    "    'a': '11',\n",
    "    'b': '12',\n",
    "    'c': '13',\n",
    "    'd': '14',\n",
    "    'e': '15',\n",
    "    'f': '16',\n",
    "    'g': '17',\n",
    "    'h': '18',\n",
    "    'i': '19',\n",
    "    'j': '20',\n",
    "    'k': '21',\n",
    "    'l': '22',\n",
    "    'm': '23',\n",
    "    'n': '24',\n",
    "    'o': '25',\n",
    "    'p': '26',\n",
    "    'q': '27',\n",
    "    'r': '28',\n",
    "    's': '29',\n",
    "    't': '30',\n",
    "    'u': '31',\n",
    "    'v': '32',\n",
    "    'w': '33',\n",
    "    'x': '34',\n",
    "    'y': '35',\n",
    "    'z': '36',\n",
    "}"
   ],
   "outputs": [],
   "metadata": {}
  },
  {
   "cell_type": "code",
   "execution_count": 4,
   "source": [
    "def reverse_dict(dict_org):\n",
    "    dict_rev = {}\n",
    "    for key in dict_org:\n",
    "        val = dict_org[key]\n",
    "        dict_rev[val] = key\n",
    "    return dict_rev"
   ],
   "outputs": [],
   "metadata": {}
  },
  {
   "cell_type": "code",
   "execution_count": 5,
   "source": [
    "NUMBER_MAP = reverse_dict(TEXT_MAP)\n",
    "\n",
    "# predefine\n",
    "BLOCK_SIZE = 5\n",
    "LETTER_SIZE = 2\n",
    "PRIME_SIZE = 6"
   ],
   "outputs": [],
   "metadata": {}
  },
  {
   "cell_type": "code",
   "execution_count": 6,
   "source": [
    "def encode(text):\n",
    "    numbers = []\n",
    "    i = 0\n",
    "    ns = ''\n",
    "    blocks = [text[i:i+BLOCK_SIZE] for i in range(0,len(text),BLOCK_SIZE)]\n",
    "    for b in blocks:\n",
    "        ns = ''\n",
    "        for t in b:\n",
    "            n = TEXT_MAP[t]\n",
    "            ns = ns+n\n",
    "            i = i+1\n",
    "        numbers.append(ns)\n",
    "    return numbers\n",
    "\n",
    "def decode(numbers):\n",
    "    texts = ''\n",
    "    for ns in numbers:\n",
    "        for i in range(0,len(ns),LETTER_SIZE):\n",
    "            sn = ns[i:i+LETTER_SIZE]\n",
    "            t = NUMBER_MAP[sn]\n",
    "            texts = texts+t\n",
    "    return texts"
   ],
   "outputs": [],
   "metadata": {}
  },
  {
   "cell_type": "code",
   "execution_count": 7,
   "source": [
    "import random\n",
    "import math\n",
    "\n",
    "def random_odd_number(n_digit):\n",
    "    start = 10^(n_digit-1)/2\n",
    "    end = 10^n_digit/2\n",
    "    return 2 * random.choice(range(start,end)) + 1\n",
    "\n",
    "# miller-rabin's probabilistic primality test - millers test\n",
    "# strong pseudoprime\n",
    "def rabins_primality_test(n,k):\n",
    "    if n <= 1 or n == 4:\n",
    "        return False\n",
    "\n",
    "    if n == 3 or n == 5:\n",
    "        return True\n",
    "    \n",
    "    t = n-1\n",
    "    while t % 2 == 0:\n",
    "        t = t/2\n",
    "    \n",
    "    def miller_test(b,t,n):\n",
    "        x = power_mod(b,t,n)\n",
    "        if x == 1 or x == n-1:\n",
    "            return True\n",
    "        return False\n",
    "\n",
    "    passed = 0\n",
    "    used_b = []\n",
    "    for i in range(k):\n",
    "        b = random.choice(range(5,n-1))\n",
    "        while b in used_b:\n",
    "            b = random.choice(range(5,n-1))\n",
    "        if miller_test(b,int(t),n):\n",
    "            passed += 1\n",
    "    \n",
    "    if passed/k < (1/4)^k:\n",
    "        return False\n",
    "    return True\n",
    "\n",
    "def find_pq(prime_size):\n",
    "    p = 1       #dummy value\n",
    "    while not rabins_primality_test(p,10):\n",
    "        p = random_odd_number(prime_size)\n",
    "    q=1\n",
    "    while not rabins_primality_test(q,10) or p == q: \n",
    "        q = random_odd_number(prime_size)\n",
    "    return p,q \n",
    "\n",
    "def find_ek(p,q):\n",
    "    # e bigger than p and q => (e,(p-1)(q-1))=1\n",
    "    current_p = max(p,q)\n",
    "    while True:\n",
    "        ek = next_prime(current_p)\n",
    "        if ek > math.log(p*q,2):\n",
    "            return ek\n",
    "    return 0  # dummy value"
   ],
   "outputs": [],
   "metadata": {}
  },
  {
   "cell_type": "code",
   "execution_count": 8,
   "source": [
    "import timeit\n",
    "\n",
    "# unit tests\n",
    "## random_odd_number(n_digit) tests\n",
    "print(len(str(random_odd_number(3))) == 3)\n",
    "print(random_odd_number(3)%2 == 1)\n",
    "\n",
    "## rabins_test(n,k) test\n",
    "n = 201333667445\n",
    "print(timeit.timeit(lambda: print(rabins_primality_test(n,10) == is_prime(n)), number=1))     # how is_prime() works in sage?\n"
   ],
   "outputs": [
    {
     "output_type": "stream",
     "name": "stdout",
     "text": [
      "True\n",
      "True\n",
      "True\n",
      "0.0002983340000000112\n"
     ]
    }
   ],
   "metadata": {}
  },
  {
   "cell_type": "code",
   "execution_count": 9,
   "source": [
    "def encrypt(pnumbers):\n",
    "    print(pnumbers)\n",
    "    p,q = find_pq(PRIME_SIZE)\n",
    "    n = p*q\n",
    "    ek = find_ek(p,q)\n",
    "    \n",
    "    enumbers = []\n",
    "    for pn in pnumbers:\n",
    "        en = power_mod(int(pn),ek,n)\n",
    "        enumbers.append(str(en))\n",
    "    return enumbers,p,q,ek\n",
    "\n",
    "def decrypt(enumbers,p,q,ek):\n",
    "    print(enumbers)\n",
    "    n = p*q\n",
    "    phi = (p-1)*(q-1)\n",
    "    dk = ek.inverse_mod(phi)\n",
    "\n",
    "    pnumbers = []\n",
    "    for en in enumbers:\n",
    "        pn = power_mod(int(en),dk,n)\n",
    "        pnumbers.append(str(pn))\n",
    "    print(pnumbers)\n",
    "    return pnumbers"
   ],
   "outputs": [],
   "metadata": {}
  },
  {
   "cell_type": "code",
   "execution_count": 10,
   "source": [
    "encrypted_texts,p,q,ek = encrypt(encode('mathematicsisthequeenofscienceandnumbertheoryisthequeenofmathematicskfgauss'))\n",
    "print(encrypted_texts)"
   ],
   "outputs": [
    {
     "output_type": "stream",
     "name": "stdout",
     "text": [
      "['2311301815', '2311301913', '2919293018', '1527311515', '2425162913', '1915241315', '1124142431', '2312152830', '1815252835', '1929301815', '2731151524', '2516231130', '1815231130', '1913292116', '1711312929']\n",
      "['136574537214', '16212428747', '160220065310', '99910379648', '13332058651', '143487673454', '83764700431', '22174833015', '207914439', '167944320404', '10874099725', '54313327318', '34516008944', '217384064310', '171046416121']\n"
     ]
    }
   ],
   "metadata": {}
  },
  {
   "cell_type": "code",
   "execution_count": 11,
   "source": [
    "# encrypted_texts = ['5272281348','21089283929','3117723025','26844144908','22890519533',\n",
    "# '26945939925','27395704341','2253724391','1481682985','2163791130',\n",
    "# '13583590307','5838404872','12165330281','28372578777','7536755222']\n",
    "#dts = decode(decrypt(encrypted_texts,187963,163841,48611))"
   ],
   "outputs": [],
   "metadata": {}
  },
  {
   "cell_type": "code",
   "execution_count": 12,
   "source": [
    "decrypted_text = decode(decrypt(encrypted_texts,p,q,ek))\n",
    "print(decrypted_text)"
   ],
   "outputs": [
    {
     "output_type": "stream",
     "name": "stdout",
     "text": [
      "['136574537214', '16212428747', '160220065310', '99910379648', '13332058651', '143487673454', '83764700431', '22174833015', '207914439', '167944320404', '10874099725', '54313327318', '34516008944', '217384064310', '171046416121']\n",
      "['2311301815', '2311301913', '2919293018', '1527311515', '2425162913', '1915241315', '1124142431', '2312152830', '1815252835', '1929301815', '2731151524', '2516231130', '1815231130', '1913292116', '1711312929']\n",
      "mathematicsisthequeenofscienceandnumbertheoryisthequeenofmathematicskfgauss\n"
     ]
    }
   ],
   "metadata": {}
  },
  {
   "cell_type": "markdown",
   "source": [
    "# Best factoring algorithms\n",
    "https://en.wikipedia.org/wiki/Integer_factorization\n",
    "\n",
    "1. Dixon's algorithm\n",
    "2. Continued fraction factorization\n",
    "3. Quadratic sieve\n",
    "4. Rational sieve\n",
    "5. General number field sieve\n",
    "6. Shank's square forms factorization"
   ],
   "metadata": {}
  },
  {
   "cell_type": "code",
   "execution_count": 13,
   "source": [
    "def crack(enumbers,ek,n):\n",
    "    def find_key(ek,n):\n",
    "        F = factor(n)       #TODO customize factoring algorithm\n",
    "        p,q = F[0][0], F[1][0]\n",
    "        phi = (p-1)*(q-1)\n",
    "        dk = ek.inverse_mod(phi)\n",
    "        return dk\n",
    "\n",
    "    dk = find_key(ek,n)\n",
    "    pnumbers = []\n",
    "    for en in enumbers:\n",
    "        pn = power_mod(int(en),dk,n)\n",
    "        pnumbers.append(str(pn))\n",
    "    \n",
    "    return pnumbers"
   ],
   "outputs": [],
   "metadata": {}
  },
  {
   "cell_type": "code",
   "execution_count": 14,
   "source": [
    "# crack test\n",
    "cracked_text = decode(crack(encrypted_texts,ek,p*q))\n",
    "print(cracked_text)"
   ],
   "outputs": [
    {
     "output_type": "stream",
     "name": "stdout",
     "text": [
      "mathematicsisthequeenofscienceandnumbertheoryisthequeenofmathematicskfgauss\n"
     ]
    }
   ],
   "metadata": {}
  },
  {
   "cell_type": "code",
   "execution_count": null,
   "source": [],
   "outputs": [],
   "metadata": {}
  }
 ],
 "metadata": {
  "orig_nbformat": 4,
  "language_info": {
   "name": "python",
   "version": "3.9.5",
   "mimetype": "text/x-python",
   "codemirror_mode": {
    "name": "ipython",
    "version": 3
   },
   "pygments_lexer": "ipython3",
   "nbconvert_exporter": "python",
   "file_extension": ".py"
  },
  "kernelspec": {
   "name": "SageMath-9.4",
   "display_name": "SageMath 9.4",
   "language": "sage"
  }
 },
 "nbformat": 4,
 "nbformat_minor": 2
}